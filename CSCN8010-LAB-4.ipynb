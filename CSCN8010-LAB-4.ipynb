{
 "cells": [
  {
   "cell_type": "markdown",
   "id": "45d496e6-2325-4b38-9ce7-8674b01c05f0",
   "metadata": {},
   "source": [
    "## PROBLEM STATEMENT"
   ]
  },
  {
   "cell_type": "markdown",
   "id": "9ea519cc-973e-454b-b32c-19f5593923e6",
   "metadata": {},
   "source": [
    "### We’re working on predicting diabetes risk using a univariate polynomial regression. We're looking at people's body mass index (BMI) to figure out if they might be at risk of diabetes.\r\n"
   ]
  },
  {
   "cell_type": "markdown",
   "id": "77c9e36c-d2a9-4920-8ea3-937e9e5efcdc",
   "metadata": {},
   "source": [
    "### To make this happen, I'll be using a dataset called Scikit-Learn Diabetes. First, we're checking out the data focusing only on BMI and how it links to diabetes progression. Then, I'll using a polynomial regression model to make predictions. Lastly, I'll checking how good our predictions are using some metrics like R-squared, Mean Absolute Percentage Error, and Mean Squared Error."
   ]
  },
  {
   "cell_type": "raw",
   "id": "9efed824-b7e1-4f9b-a140-c785ef39e733",
   "metadata": {},
   "source": []
  },
  {
   "cell_type": "raw",
   "id": "3ebb5071-f750-4cd2-acc4-bdde13131cdd",
   "metadata": {},
   "source": []
  },
  {
   "cell_type": "markdown",
   "id": "03df0f1b-0352-4c2f-9c25-7b95500c9710",
   "metadata": {},
   "source": [
    "#### Imports"
   ]
  },
  {
   "cell_type": "code",
   "execution_count": 1,
   "id": "81d2f741-53ec-4834-8dea-d4b310375c7a",
   "metadata": {},
   "outputs": [],
   "source": [
    "import pandas as pd\n",
    "import numpy as np\n",
    "import matplotlib.pyplot as plt\n",
    "import seaborn as sns\n",
    "from sklearn.datasets import load_diabetes\n",
    "from sklearn.model_selection import train_test_split\n",
    "from sklearn.preprocessing import PolynomialFeatures\n",
    "from sklearn.linear_model import LinearRegression\n",
    "from sklearn.metrics import r2_score, mean_absolute_error,  mean_squared_error, mean_absolute_percentage_error\n",
    "import warnings"
   ]
  },
  {
   "cell_type": "markdown",
   "id": "ebe1050a-1d95-4e62-bd6d-d10b981c0bea",
   "metadata": {},
   "source": [
    "#### NOTEBOOK CONFIG"
   ]
  },
  {
   "cell_type": "code",
   "execution_count": 2,
   "id": "66c16e66-60dc-4f44-a16d-48efa1349531",
   "metadata": {},
   "outputs": [],
   "source": [
    "warnings.filterwarnings(\"ignore\") ## Ignore package/modules warnings\n",
    "pd.set_option('display.float_format', lambda x: '%.4f' % x) # Display values in dataframes as float upto 4 decimal points instead of exponents"
   ]
  },
  {
   "cell_type": "raw",
   "id": "d16a588e-41fd-44e4-8017-2068eeb5aaad",
   "metadata": {},
   "source": []
  },
  {
   "cell_type": "markdown",
   "id": "4c40e3ce-7f98-4d80-a7b5-164911117cfc",
   "metadata": {},
   "source": [
    "## LOAD AND DESCRIBE THE DATA"
   ]
  },
  {
   "cell_type": "code",
   "execution_count": 3,
   "id": "a1f063fb-5975-4e33-8269-76ae3f2afcbb",
   "metadata": {},
   "outputs": [
    {
     "data": {
      "text/plain": [
       "['age', 'sex', 'bmi', 'bp', 's1', 's2', 's3', 's4', 's5', 's6']"
      ]
     },
     "execution_count": 3,
     "metadata": {},
     "output_type": "execute_result"
    }
   ],
   "source": [
    "data = load_diabetes()\n",
    "data.feature_names"
   ]
  },
  {
   "cell_type": "code",
   "execution_count": 4,
   "id": "8c2a6708-4c82-42f3-9830-f90b16034708",
   "metadata": {},
   "outputs": [
    {
     "data": {
      "text/plain": [
       "array([[ 0.03807591,  0.05068012,  0.06169621, ..., -0.00259226,\n",
       "         0.01990749, -0.01764613],\n",
       "       [-0.00188202, -0.04464164, -0.05147406, ..., -0.03949338,\n",
       "        -0.06833155, -0.09220405],\n",
       "       [ 0.08529891,  0.05068012,  0.04445121, ..., -0.00259226,\n",
       "         0.00286131, -0.02593034],\n",
       "       ...,\n",
       "       [ 0.04170844,  0.05068012, -0.01590626, ..., -0.01107952,\n",
       "        -0.04688253,  0.01549073],\n",
       "       [-0.04547248, -0.04464164,  0.03906215, ...,  0.02655962,\n",
       "         0.04452873, -0.02593034],\n",
       "       [-0.04547248, -0.04464164, -0.0730303 , ..., -0.03949338,\n",
       "        -0.00422151,  0.00306441]])"
      ]
     },
     "execution_count": 4,
     "metadata": {},
     "output_type": "execute_result"
    }
   ],
   "source": [
    "data.data"
   ]
  },
  {
   "cell_type": "code",
   "execution_count": 5,
   "id": "731a3759-7cd6-423b-b7ce-9686a88f2255",
   "metadata": {},
   "outputs": [
    {
     "data": {
      "text/plain": [
       "array([151.,  75., 141., 206., 135.,  97., 138.,  63., 110., 310., 101.,\n",
       "        69., 179., 185., 118., 171., 166., 144.,  97., 168.,  68.,  49.,\n",
       "        68., 245., 184., 202., 137.,  85., 131., 283., 129.,  59., 341.,\n",
       "        87.,  65., 102., 265., 276., 252.,  90., 100.,  55.,  61.,  92.,\n",
       "       259.,  53., 190., 142.,  75., 142., 155., 225.,  59., 104., 182.,\n",
       "       128.,  52.,  37., 170., 170.,  61., 144.,  52., 128.,  71., 163.,\n",
       "       150.,  97., 160., 178.,  48., 270., 202., 111.,  85.,  42., 170.,\n",
       "       200., 252., 113., 143.,  51.,  52., 210.,  65., 141.,  55., 134.,\n",
       "        42., 111.,  98., 164.,  48.,  96.,  90., 162., 150., 279.,  92.,\n",
       "        83., 128., 102., 302., 198.,  95.,  53., 134., 144., 232.,  81.,\n",
       "       104.,  59., 246., 297., 258., 229., 275., 281., 179., 200., 200.,\n",
       "       173., 180.,  84., 121., 161.,  99., 109., 115., 268., 274., 158.,\n",
       "       107.,  83., 103., 272.,  85., 280., 336., 281., 118., 317., 235.,\n",
       "        60., 174., 259., 178., 128.,  96., 126., 288.,  88., 292.,  71.,\n",
       "       197., 186.,  25.,  84.,  96., 195.,  53., 217., 172., 131., 214.,\n",
       "        59.,  70., 220., 268., 152.,  47.,  74., 295., 101., 151., 127.,\n",
       "       237., 225.,  81., 151., 107.,  64., 138., 185., 265., 101., 137.,\n",
       "       143., 141.,  79., 292., 178.,  91., 116.,  86., 122.,  72., 129.,\n",
       "       142.,  90., 158.,  39., 196., 222., 277.,  99., 196., 202., 155.,\n",
       "        77., 191.,  70.,  73.,  49.,  65., 263., 248., 296., 214., 185.,\n",
       "        78.,  93., 252., 150.,  77., 208.,  77., 108., 160.,  53., 220.,\n",
       "       154., 259.,  90., 246., 124.,  67.,  72., 257., 262., 275., 177.,\n",
       "        71.,  47., 187., 125.,  78.,  51., 258., 215., 303., 243.,  91.,\n",
       "       150., 310., 153., 346.,  63.,  89.,  50.,  39., 103., 308., 116.,\n",
       "       145.,  74.,  45., 115., 264.,  87., 202., 127., 182., 241.,  66.,\n",
       "        94., 283.,  64., 102., 200., 265.,  94., 230., 181., 156., 233.,\n",
       "        60., 219.,  80.,  68., 332., 248.,  84., 200.,  55.,  85.,  89.,\n",
       "        31., 129.,  83., 275.,  65., 198., 236., 253., 124.,  44., 172.,\n",
       "       114., 142., 109., 180., 144., 163., 147.,  97., 220., 190., 109.,\n",
       "       191., 122., 230., 242., 248., 249., 192., 131., 237.,  78., 135.,\n",
       "       244., 199., 270., 164.,  72.,  96., 306.,  91., 214.,  95., 216.,\n",
       "       263., 178., 113., 200., 139., 139.,  88., 148.,  88., 243.,  71.,\n",
       "        77., 109., 272.,  60.,  54., 221.,  90., 311., 281., 182., 321.,\n",
       "        58., 262., 206., 233., 242., 123., 167.,  63., 197.,  71., 168.,\n",
       "       140., 217., 121., 235., 245.,  40.,  52., 104., 132.,  88.,  69.,\n",
       "       219.,  72., 201., 110.,  51., 277.,  63., 118.,  69., 273., 258.,\n",
       "        43., 198., 242., 232., 175.,  93., 168., 275., 293., 281.,  72.,\n",
       "       140., 189., 181., 209., 136., 261., 113., 131., 174., 257.,  55.,\n",
       "        84.,  42., 146., 212., 233.,  91., 111., 152., 120.,  67., 310.,\n",
       "        94., 183.,  66., 173.,  72.,  49.,  64.,  48., 178., 104., 132.,\n",
       "       220.,  57.])"
      ]
     },
     "execution_count": 5,
     "metadata": {},
     "output_type": "execute_result"
    }
   ],
   "source": [
    "data.target"
   ]
  },
  {
   "cell_type": "markdown",
   "id": "46ad7935-075f-435a-8014-de55d15902eb",
   "metadata": {},
   "source": [
    "#### Converting dataset to dataframe"
   ]
  },
  {
   "cell_type": "code",
   "execution_count": 6,
   "id": "dda19a2a-9aae-4546-ad47-8aba640759e7",
   "metadata": {},
   "outputs": [
    {
     "data": {
      "text/html": [
       "<div>\n",
       "<style scoped>\n",
       "    .dataframe tbody tr th:only-of-type {\n",
       "        vertical-align: middle;\n",
       "    }\n",
       "\n",
       "    .dataframe tbody tr th {\n",
       "        vertical-align: top;\n",
       "    }\n",
       "\n",
       "    .dataframe thead th {\n",
       "        text-align: right;\n",
       "    }\n",
       "</style>\n",
       "<table border=\"1\" class=\"dataframe\">\n",
       "  <thead>\n",
       "    <tr style=\"text-align: right;\">\n",
       "      <th></th>\n",
       "      <th>age</th>\n",
       "      <th>sex</th>\n",
       "      <th>bmi</th>\n",
       "      <th>bp</th>\n",
       "      <th>s1</th>\n",
       "      <th>s2</th>\n",
       "      <th>s3</th>\n",
       "      <th>s4</th>\n",
       "      <th>s5</th>\n",
       "      <th>s6</th>\n",
       "      <th>target</th>\n",
       "    </tr>\n",
       "  </thead>\n",
       "  <tbody>\n",
       "    <tr>\n",
       "      <th>0</th>\n",
       "      <td>0.0381</td>\n",
       "      <td>0.0507</td>\n",
       "      <td>0.0617</td>\n",
       "      <td>0.0219</td>\n",
       "      <td>-0.0442</td>\n",
       "      <td>-0.0348</td>\n",
       "      <td>-0.0434</td>\n",
       "      <td>-0.0026</td>\n",
       "      <td>0.0199</td>\n",
       "      <td>-0.0176</td>\n",
       "      <td>151.0000</td>\n",
       "    </tr>\n",
       "    <tr>\n",
       "      <th>1</th>\n",
       "      <td>-0.0019</td>\n",
       "      <td>-0.0446</td>\n",
       "      <td>-0.0515</td>\n",
       "      <td>-0.0263</td>\n",
       "      <td>-0.0084</td>\n",
       "      <td>-0.0192</td>\n",
       "      <td>0.0744</td>\n",
       "      <td>-0.0395</td>\n",
       "      <td>-0.0683</td>\n",
       "      <td>-0.0922</td>\n",
       "      <td>75.0000</td>\n",
       "    </tr>\n",
       "    <tr>\n",
       "      <th>2</th>\n",
       "      <td>0.0853</td>\n",
       "      <td>0.0507</td>\n",
       "      <td>0.0445</td>\n",
       "      <td>-0.0057</td>\n",
       "      <td>-0.0456</td>\n",
       "      <td>-0.0342</td>\n",
       "      <td>-0.0324</td>\n",
       "      <td>-0.0026</td>\n",
       "      <td>0.0029</td>\n",
       "      <td>-0.0259</td>\n",
       "      <td>141.0000</td>\n",
       "    </tr>\n",
       "    <tr>\n",
       "      <th>3</th>\n",
       "      <td>-0.0891</td>\n",
       "      <td>-0.0446</td>\n",
       "      <td>-0.0116</td>\n",
       "      <td>-0.0367</td>\n",
       "      <td>0.0122</td>\n",
       "      <td>0.0250</td>\n",
       "      <td>-0.0360</td>\n",
       "      <td>0.0343</td>\n",
       "      <td>0.0227</td>\n",
       "      <td>-0.0094</td>\n",
       "      <td>206.0000</td>\n",
       "    </tr>\n",
       "    <tr>\n",
       "      <th>4</th>\n",
       "      <td>0.0054</td>\n",
       "      <td>-0.0446</td>\n",
       "      <td>-0.0364</td>\n",
       "      <td>0.0219</td>\n",
       "      <td>0.0039</td>\n",
       "      <td>0.0156</td>\n",
       "      <td>0.0081</td>\n",
       "      <td>-0.0026</td>\n",
       "      <td>-0.0320</td>\n",
       "      <td>-0.0466</td>\n",
       "      <td>135.0000</td>\n",
       "    </tr>\n",
       "  </tbody>\n",
       "</table>\n",
       "</div>"
      ],
      "text/plain": [
       "      age     sex     bmi      bp      s1      s2      s3      s4      s5  \\\n",
       "0  0.0381  0.0507  0.0617  0.0219 -0.0442 -0.0348 -0.0434 -0.0026  0.0199   \n",
       "1 -0.0019 -0.0446 -0.0515 -0.0263 -0.0084 -0.0192  0.0744 -0.0395 -0.0683   \n",
       "2  0.0853  0.0507  0.0445 -0.0057 -0.0456 -0.0342 -0.0324 -0.0026  0.0029   \n",
       "3 -0.0891 -0.0446 -0.0116 -0.0367  0.0122  0.0250 -0.0360  0.0343  0.0227   \n",
       "4  0.0054 -0.0446 -0.0364  0.0219  0.0039  0.0156  0.0081 -0.0026 -0.0320   \n",
       "\n",
       "       s6   target  \n",
       "0 -0.0176 151.0000  \n",
       "1 -0.0922  75.0000  \n",
       "2 -0.0259 141.0000  \n",
       "3 -0.0094 206.0000  \n",
       "4 -0.0466 135.0000  "
      ]
     },
     "execution_count": 6,
     "metadata": {},
     "output_type": "execute_result"
    }
   ],
   "source": [
    "df = pd.DataFrame(data.data, columns=data.feature_names)\n",
    "df['target'] = data.target\n",
    "df.head()"
   ]
  },
  {
   "cell_type": "raw",
   "id": "3edadf54-5f84-4efe-9b94-4c743b9f0237",
   "metadata": {},
   "source": []
  },
  {
   "cell_type": "markdown",
   "id": "19a2393d-f46a-404e-9eff-9eccf1671320",
   "metadata": {},
   "source": [
    "#### Getting valuable insights"
   ]
  },
  {
   "cell_type": "code",
   "execution_count": 7,
   "id": "17d88c71-9ed3-4ac6-aadf-33159ee0e496",
   "metadata": {},
   "outputs": [
    {
     "data": {
      "text/html": [
       "<div>\n",
       "<style scoped>\n",
       "    .dataframe tbody tr th:only-of-type {\n",
       "        vertical-align: middle;\n",
       "    }\n",
       "\n",
       "    .dataframe tbody tr th {\n",
       "        vertical-align: top;\n",
       "    }\n",
       "\n",
       "    .dataframe thead th {\n",
       "        text-align: right;\n",
       "    }\n",
       "</style>\n",
       "<table border=\"1\" class=\"dataframe\">\n",
       "  <thead>\n",
       "    <tr style=\"text-align: right;\">\n",
       "      <th></th>\n",
       "      <th>age</th>\n",
       "      <th>sex</th>\n",
       "      <th>bmi</th>\n",
       "      <th>bp</th>\n",
       "      <th>s1</th>\n",
       "      <th>s2</th>\n",
       "      <th>s3</th>\n",
       "      <th>s4</th>\n",
       "      <th>s5</th>\n",
       "      <th>s6</th>\n",
       "      <th>target</th>\n",
       "    </tr>\n",
       "  </thead>\n",
       "  <tbody>\n",
       "    <tr>\n",
       "      <th>count</th>\n",
       "      <td>442.0000</td>\n",
       "      <td>442.0000</td>\n",
       "      <td>442.0000</td>\n",
       "      <td>442.0000</td>\n",
       "      <td>442.0000</td>\n",
       "      <td>442.0000</td>\n",
       "      <td>442.0000</td>\n",
       "      <td>442.0000</td>\n",
       "      <td>442.0000</td>\n",
       "      <td>442.0000</td>\n",
       "      <td>442.0000</td>\n",
       "    </tr>\n",
       "    <tr>\n",
       "      <th>mean</th>\n",
       "      <td>-0.0000</td>\n",
       "      <td>0.0000</td>\n",
       "      <td>-0.0000</td>\n",
       "      <td>-0.0000</td>\n",
       "      <td>-0.0000</td>\n",
       "      <td>0.0000</td>\n",
       "      <td>-0.0000</td>\n",
       "      <td>-0.0000</td>\n",
       "      <td>0.0000</td>\n",
       "      <td>0.0000</td>\n",
       "      <td>152.1335</td>\n",
       "    </tr>\n",
       "    <tr>\n",
       "      <th>std</th>\n",
       "      <td>0.0476</td>\n",
       "      <td>0.0476</td>\n",
       "      <td>0.0476</td>\n",
       "      <td>0.0476</td>\n",
       "      <td>0.0476</td>\n",
       "      <td>0.0476</td>\n",
       "      <td>0.0476</td>\n",
       "      <td>0.0476</td>\n",
       "      <td>0.0476</td>\n",
       "      <td>0.0476</td>\n",
       "      <td>77.0930</td>\n",
       "    </tr>\n",
       "    <tr>\n",
       "      <th>min</th>\n",
       "      <td>-0.1072</td>\n",
       "      <td>-0.0446</td>\n",
       "      <td>-0.0903</td>\n",
       "      <td>-0.1124</td>\n",
       "      <td>-0.1268</td>\n",
       "      <td>-0.1156</td>\n",
       "      <td>-0.1023</td>\n",
       "      <td>-0.0764</td>\n",
       "      <td>-0.1261</td>\n",
       "      <td>-0.1378</td>\n",
       "      <td>25.0000</td>\n",
       "    </tr>\n",
       "    <tr>\n",
       "      <th>25%</th>\n",
       "      <td>-0.0373</td>\n",
       "      <td>-0.0446</td>\n",
       "      <td>-0.0342</td>\n",
       "      <td>-0.0367</td>\n",
       "      <td>-0.0342</td>\n",
       "      <td>-0.0304</td>\n",
       "      <td>-0.0351</td>\n",
       "      <td>-0.0395</td>\n",
       "      <td>-0.0332</td>\n",
       "      <td>-0.0332</td>\n",
       "      <td>87.0000</td>\n",
       "    </tr>\n",
       "    <tr>\n",
       "      <th>50%</th>\n",
       "      <td>0.0054</td>\n",
       "      <td>-0.0446</td>\n",
       "      <td>-0.0073</td>\n",
       "      <td>-0.0057</td>\n",
       "      <td>-0.0043</td>\n",
       "      <td>-0.0038</td>\n",
       "      <td>-0.0066</td>\n",
       "      <td>-0.0026</td>\n",
       "      <td>-0.0019</td>\n",
       "      <td>-0.0011</td>\n",
       "      <td>140.5000</td>\n",
       "    </tr>\n",
       "    <tr>\n",
       "      <th>75%</th>\n",
       "      <td>0.0381</td>\n",
       "      <td>0.0507</td>\n",
       "      <td>0.0312</td>\n",
       "      <td>0.0356</td>\n",
       "      <td>0.0284</td>\n",
       "      <td>0.0298</td>\n",
       "      <td>0.0293</td>\n",
       "      <td>0.0343</td>\n",
       "      <td>0.0324</td>\n",
       "      <td>0.0279</td>\n",
       "      <td>211.5000</td>\n",
       "    </tr>\n",
       "    <tr>\n",
       "      <th>max</th>\n",
       "      <td>0.1107</td>\n",
       "      <td>0.0507</td>\n",
       "      <td>0.1706</td>\n",
       "      <td>0.1320</td>\n",
       "      <td>0.1539</td>\n",
       "      <td>0.1988</td>\n",
       "      <td>0.1812</td>\n",
       "      <td>0.1852</td>\n",
       "      <td>0.1336</td>\n",
       "      <td>0.1356</td>\n",
       "      <td>346.0000</td>\n",
       "    </tr>\n",
       "  </tbody>\n",
       "</table>\n",
       "</div>"
      ],
      "text/plain": [
       "           age      sex      bmi       bp       s1       s2       s3       s4  \\\n",
       "count 442.0000 442.0000 442.0000 442.0000 442.0000 442.0000 442.0000 442.0000   \n",
       "mean   -0.0000   0.0000  -0.0000  -0.0000  -0.0000   0.0000  -0.0000  -0.0000   \n",
       "std     0.0476   0.0476   0.0476   0.0476   0.0476   0.0476   0.0476   0.0476   \n",
       "min    -0.1072  -0.0446  -0.0903  -0.1124  -0.1268  -0.1156  -0.1023  -0.0764   \n",
       "25%    -0.0373  -0.0446  -0.0342  -0.0367  -0.0342  -0.0304  -0.0351  -0.0395   \n",
       "50%     0.0054  -0.0446  -0.0073  -0.0057  -0.0043  -0.0038  -0.0066  -0.0026   \n",
       "75%     0.0381   0.0507   0.0312   0.0356   0.0284   0.0298   0.0293   0.0343   \n",
       "max     0.1107   0.0507   0.1706   0.1320   0.1539   0.1988   0.1812   0.1852   \n",
       "\n",
       "            s5       s6   target  \n",
       "count 442.0000 442.0000 442.0000  \n",
       "mean    0.0000   0.0000 152.1335  \n",
       "std     0.0476   0.0476  77.0930  \n",
       "min    -0.1261  -0.1378  25.0000  \n",
       "25%    -0.0332  -0.0332  87.0000  \n",
       "50%    -0.0019  -0.0011 140.5000  \n",
       "75%     0.0324   0.0279 211.5000  \n",
       "max     0.1336   0.1356 346.0000  "
      ]
     },
     "execution_count": 7,
     "metadata": {},
     "output_type": "execute_result"
    }
   ],
   "source": [
    "df.describe()"
   ]
  },
  {
   "cell_type": "raw",
   "id": "5f07f4b2-0a34-4b84-b1fa-eb9250a87fed",
   "metadata": {},
   "source": []
  },
  {
   "cell_type": "markdown",
   "id": "554d4901-338e-4cba-8c98-9d9934571ec8",
   "metadata": {},
   "source": [
    "#### Plotting differnt graphs to visualize our data"
   ]
  },
  {
   "cell_type": "code",
   "execution_count": 8,
   "id": "fb5a34a7-42c5-4eb0-bd07-658d9734eab9",
   "metadata": {},
   "outputs": [
    {
     "data": {
      "image/png": "[encoded data removed]",
      "text/plain": [
       "<Figure size 600x600 with 1 Axes>"
      ]
     },
     "metadata": {},
     "output_type": "display_data"
    }
   ],
   "source": [
    "plt.figure(figsize=(6, 6))\n",
    "\n",
    "\n",
    "sns.scatterplot(x='bmi', y=df['target'], data=df)\n",
    "plt.title('Scatter Plot: BMI vs Diabetes Risk')\n",
    "plt.xlabel('BMI')\n",
    "plt.ylabel('Diabetes Risk')\n",
    "\n",
    "plt.tight_layout()\n",
    "plt.show()"
   ]
  },
  {
   "cell_type": "code",
   "execution_count": 9,
   "id": "30327d6f-9470-4c4f-8f54-3cb778cc902d",
   "metadata": {},
   "outputs": [
    {
     "data": {
      "image/png": "[encoded data removed]",
      "text/plain": [
       "<Figure size 1500x800 with 1 Axes>"
      ]
     },
     "metadata": {},
     "output_type": "display_data"
    }
   ],
   "source": [
    "df['target'].hist(figsize=(15, 8))\n",
    "plt.suptitle('Histograms for BMI vs Diabetes Risk', y=1.02)\n",
    "plt.show()"
   ]
  },
  {
   "cell_type": "code",
   "execution_count": 10,
   "id": "544e0733-6a3b-4b55-8a9c-ba71c67a79ae",
   "metadata": {},
   "outputs": [
    {
     "data": {
      "image/png": "[encoded data removed]",
      "text/plain": [
       "<Figure size 500x400 with 2 Axes>"
      ]
     },
     "metadata": {},
     "output_type": "display_data"
    }
   ],
   "source": [
    "# Correlation matrix\n",
    "correlation_matrix = df[['bmi', 'target']].corr()\n",
    "\n",
    "plt.figure(figsize=(5, 4))\n",
    "sns.heatmap(correlation_matrix, annot=True, cmap='coolwarm', fmt=\".2f\", linewidths=.5)\n",
    "plt.title('Correlation Matrix')\n",
    "plt.show()"
   ]
  },
  {
   "cell_type": "markdown",
   "id": "257792ae-9464-4ff4-af40-9f66aa6ee525",
   "metadata": {},
   "source": [
    "The correlation matrix shows that bmi and the target [diabetes risk] are moderately positively correlated, meaning that as BMI increases, the target variable tends to increase as well. The correlation is stronger between BMI and itself. However, it's crucial to understand that correlation doesn't necessarily mean one causes the other."
   ]
  },
  {
   "cell_type": "raw",
   "id": "d9096998-2fea-4d00-b4ee-b0e5f59a7d2b",
   "metadata": {},
   "source": []
  },
  {
   "cell_type": "markdown",
   "id": "c8bad500-f2d4-47b1-a823-b780bf6c1f12",
   "metadata": {},
   "source": [
    "## DATA CLEANING"
   ]
  },
  {
   "cell_type": "markdown",
   "id": "3e36972a-e169-4646-84f9-b485cbcd5bc6",
   "metadata": {},
   "source": [
    "#### Checking for null value"
   ]
  },
  {
   "cell_type": "code",
   "execution_count": 11,
   "id": "29259eb1-f9eb-4b57-8d1d-3c08da8c8fad",
   "metadata": {},
   "outputs": [
    {
     "data": {
      "text/plain": [
       "age       0\n",
       "sex       0\n",
       "bmi       0\n",
       "bp        0\n",
       "s1        0\n",
       "s2        0\n",
       "s3        0\n",
       "s4        0\n",
       "s5        0\n",
       "s6        0\n",
       "target    0\n",
       "dtype: int64"
      ]
     },
     "execution_count": 11,
     "metadata": {},
     "output_type": "execute_result"
    }
   ],
   "source": [
    "df.isnull().sum()"
   ]
  },
  {
   "cell_type": "raw",
   "id": "2f76d71c-cd99-4104-92b4-7799157aaafa",
   "metadata": {},
   "source": []
  },
  {
   "cell_type": "markdown",
   "id": "48ead9c9-7389-4787-abfb-fe8b6b3a042c",
   "metadata": {},
   "source": [
    "#### Checking for outliers"
   ]
  },
  {
   "cell_type": "code",
   "execution_count": 12,
   "id": "ae6779ea-aa76-4739-abcc-ac807be48620",
   "metadata": {},
   "outputs": [
    {
     "data": {
      "text/html": [
       "<div>\n",
       "<style scoped>\n",
       "    .dataframe tbody tr th:only-of-type {\n",
       "        vertical-align: middle;\n",
       "    }\n",
       "\n",
       "    .dataframe tbody tr th {\n",
       "        vertical-align: top;\n",
       "    }\n",
       "\n",
       "    .dataframe thead th {\n",
       "        text-align: right;\n",
       "    }\n",
       "</style>\n",
       "<table border=\"1\" class=\"dataframe\">\n",
       "  <thead>\n",
       "    <tr style=\"text-align: right;\">\n",
       "      <th></th>\n",
       "      <th>Min</th>\n",
       "      <th>Q1</th>\n",
       "      <th>Median</th>\n",
       "      <th>Q3</th>\n",
       "      <th>Max</th>\n",
       "      <th>IQR</th>\n",
       "      <th>Outliers Count</th>\n",
       "    </tr>\n",
       "  </thead>\n",
       "  <tbody>\n",
       "    <tr>\n",
       "      <th>bmi</th>\n",
       "      <td>-0.0903</td>\n",
       "      <td>-0.0342</td>\n",
       "      <td>-0.0073</td>\n",
       "      <td>0.0312</td>\n",
       "      <td>0.1706</td>\n",
       "      <td>0.0655</td>\n",
       "      <td>3</td>\n",
       "    </tr>\n",
       "    <tr>\n",
       "      <th>target</th>\n",
       "      <td>25.0000</td>\n",
       "      <td>87.0000</td>\n",
       "      <td>140.5000</td>\n",
       "      <td>211.5000</td>\n",
       "      <td>346.0000</td>\n",
       "      <td>124.5000</td>\n",
       "      <td>0</td>\n",
       "    </tr>\n",
       "  </tbody>\n",
       "</table>\n",
       "</div>"
      ],
      "text/plain": [
       "           Min      Q1   Median       Q3      Max      IQR  Outliers Count\n",
       "bmi    -0.0903 -0.0342  -0.0073   0.0312   0.1706   0.0655               3\n",
       "target 25.0000 87.0000 140.5000 211.5000 346.0000 124.5000               0"
      ]
     },
     "execution_count": 12,
     "metadata": {},
     "output_type": "execute_result"
    }
   ],
   "source": [
    "# Columns to check for outliers\n",
    "columns_to_check = ['bmi', 'target']\n",
    "\n",
    "# Calculate Q1, Q2 (median), Q3, and IQR for each column\n",
    "Q1 = df[columns_to_check].quantile(0.25)\n",
    "Q2 = df[columns_to_check].median()\n",
    "Q3 = df[columns_to_check].quantile(0.75)\n",
    "IQR = Q3 - Q1\n",
    "\n",
    "# Count outliers for each column\n",
    "outliers = ((df[columns_to_check] < (Q1 - 1.5 * IQR)) | (df[columns_to_check] > (Q3 + 1.5 * IQR)))\n",
    "outliers_count = outliers.sum()\n",
    "\n",
    "# Create a summary table\n",
    "outliers_table = pd.DataFrame({\n",
    "    'Min': df[columns_to_check].min(),\n",
    "    'Q1': Q1,\n",
    "    'Median': Q2,\n",
    "    'Q3': Q3,\n",
    "    'Max': df[columns_to_check].max(),\n",
    "    'IQR': IQR,\n",
    "    'Outliers Count': outliers_count,\n",
    "})\n",
    "\n",
    "# Print the outliers table\n",
    "outliers_table"
   ]
  },
  {
   "cell_type": "markdown",
   "id": "f58b890b-9310-4bc0-95bd-483ae0f21340",
   "metadata": {},
   "source": [
    "#### We have total only 3/442 rows that contains outliers. Therefore we will drop those rows."
   ]
  },
  {
   "cell_type": "code",
   "execution_count": 13,
   "id": "7c3d84e4-8bd8-4f29-9943-7051b0881a2b",
   "metadata": {},
   "outputs": [
    {
     "data": {
      "text/plain": [
       "(3, (442, 11))"
      ]
     },
     "execution_count": 13,
     "metadata": {},
     "output_type": "execute_result"
    }
   ],
   "source": [
    "total_outliers_count = outliers.any(axis=1).sum()\n",
    "total_outliers_count, df.shape"
   ]
  },
  {
   "cell_type": "code",
   "execution_count": 14,
   "id": "e40fe9ba-ad26-4698-835d-e31974c9d46a",
   "metadata": {},
   "outputs": [
    {
     "data": {
      "text/plain": [
       "(439, 11)"
      ]
     },
     "execution_count": 14,
     "metadata": {},
     "output_type": "execute_result"
    }
   ],
   "source": [
    "df = df[~outliers.any(axis=1)]\n",
    "df.shape"
   ]
  },
  {
   "cell_type": "raw",
   "id": "089301b8-575d-4841-8361-18d91a35755c",
   "metadata": {},
   "source": []
  },
  {
   "cell_type": "raw",
   "id": "5a636020-92e4-411d-9349-021b91f9bf02",
   "metadata": {},
   "source": []
  },
  {
   "cell_type": "markdown",
   "id": "0065bfbc-396f-4e80-879b-9b1634225523",
   "metadata": {},
   "source": [
    "## SPLITTING DATA"
   ]
  },
  {
   "cell_type": "raw",
   "id": "e414aa4d-f3a8-47a8-af8d-e61cb19bca6b",
   "metadata": {},
   "source": []
  },
  {
   "cell_type": "markdown",
   "id": "2e5065a8-6edc-4966-ae66-8ad85040bdf5",
   "metadata": {},
   "source": [
    "#### We will be splitting data into train, test and validation with sizes 70%, 15% and 15% resp."
   ]
  },
  {
   "cell_type": "markdown",
   "id": "bda1ee54-330d-49b3-96ab-abd26ed46f5a",
   "metadata": {},
   "source": [
    "> NOTE: We can use a parameter as \"random_state = n\" to help up reproduce the same split of data each time we rerun entire code. WE will be ignoring this in favour of code that will not be effected by split of data."
   ]
  },
  {
   "cell_type": "code",
   "execution_count": 15,
   "id": "48c5ba9b-b3ba-4105-bdce-69a983302d09",
   "metadata": {},
   "outputs": [
    {
     "data": {
      "text/plain": [
       "((307, 1), (307,), (219, 1), (219,), (220, 1), (220,))"
      ]
     },
     "execution_count": 15,
     "metadata": {},
     "output_type": "execute_result"
    }
   ],
   "source": [
    "X = df[['bmi']]\n",
    "Y = df['target']\n",
    "\n",
    "X_train, X_temp, Y_train, Y_temp = train_test_split(X, Y, test_size=0.3)\n",
    "X_test, X_val, Y_test, Y_val = train_test_split(X, Y, test_size=0.5)\n",
    "X_train.shape, Y_train.shape, X_test.shape, Y_test.shape, X_val.shape, Y_val.shape"
   ]
  },
  {
   "cell_type": "raw",
   "id": "745568f0-d7ae-46f4-b328-d8264590857e",
   "metadata": {},
   "source": []
  },
  {
   "cell_type": "markdown",
   "id": "b0ec7a0f-70d0-4a90-86d2-ca2e9fd2bc32",
   "metadata": {},
   "source": [
    "## MODEL"
   ]
  },
  {
   "cell_type": "code",
   "execution_count": 16,
   "id": "0e7a95ab-3971-45aa-8c4d-ea438792b16a",
   "metadata": {},
   "outputs": [],
   "source": [
    "models = []\n",
    "mae_train = []\n",
    "mse_train = []\n",
    "r2_scores_train = []\n",
    "mape_scores_train = []\n",
    "mae_val = []\n",
    "mse_val = []\n",
    "r2_scores_val = []\n",
    "mape_scores_val = []\n",
    "\n",
    "# Degrees from 0 to 5\n",
    "for degree in range(6):\n",
    "    \n",
    "    # Transform the features to polynomial features\n",
    "    poly = PolynomialFeatures(degree=degree)\n",
    "    X_train_poly = poly.fit_transform(X_train[['bmi']])\n",
    "    X_val_poly = poly.transform(X_val[['bmi']])\n",
    "\n",
    "    # Fit a linear regression model\n",
    "    model = LinearRegression()\n",
    "    model.fit(X_train_poly, Y_train)\n",
    "    \n",
    "    # Predict on training and valation sets\n",
    "    Y_train_pred = model.predict(X_train_poly)\n",
    "    Y_val_pred = model.predict(X_val_poly)\n",
    "\n",
    "    r2 = r2_score(Y_train, Y_train_pred)\n",
    "    r2_scores_train.append(r2)\n",
    "    r2 = r2_score(Y_val, Y_val_pred)\n",
    "    r2_scores_val.append(r2)\n",
    "\n",
    "    # Calculate Mean Absolute Error for training and valation sets\n",
    "    mae_train.append(mean_absolute_error(Y_train, Y_train_pred))\n",
    "    mae_val.append(mean_absolute_error(Y_val, Y_val_pred))\n",
    "\n",
    "    # Calculate MAPE for training and valation sets\n",
    "    mape = np.mean(np.abs((Y_train - Y_train_pred) / Y_train)) * 100\n",
    "    mape_scores_train.append(mape)\n",
    "    mape = np.mean(np.abs((Y_val - Y_val_pred) / Y_val)) * 100\n",
    "    mape_scores_val.append(mape)\n",
    "\n",
    "    # Calculate Mean Squared Error for training and valation sets\n",
    "    mse_train.append(mean_squared_error(Y_train, Y_train_pred))\n",
    "    mse_val.append(mean_squared_error(Y_val, Y_val_pred))\n",
    "    \n",
    "    # Store the model\n",
    "    models.append(model)"
   ]
  },
  {
   "cell_type": "markdown",
   "id": "9d6e631b-dacb-4c60-b570-d1822176a1fc",
   "metadata": {},
   "source": [
    "#### Creating a table that contains summary for performance of all 6 created models."
   ]
  },
  {
   "cell_type": "code",
   "execution_count": 17,
   "id": "65c47aff-6c02-4114-89ce-84c4f44b5ec3",
   "metadata": {},
   "outputs": [
    {
     "data": {
      "text/html": [
       "<div>\n",
       "<style scoped>\n",
       "    .dataframe tbody tr th:only-of-type {\n",
       "        vertical-align: middle;\n",
       "    }\n",
       "\n",
       "    .dataframe tbody tr th {\n",
       "        vertical-align: top;\n",
       "    }\n",
       "\n",
       "    .dataframe thead th {\n",
       "        text-align: right;\n",
       "    }\n",
       "</style>\n",
       "<table border=\"1\" class=\"dataframe\">\n",
       "  <thead>\n",
       "    <tr style=\"text-align: right;\">\n",
       "      <th></th>\n",
       "      <th>Degree</th>\n",
       "      <th>Model</th>\n",
       "      <th>Train R-squared</th>\n",
       "      <th>Validation R-squared</th>\n",
       "      <th>Train MAE</th>\n",
       "      <th>Validation MAE</th>\n",
       "      <th>Train MAPE (%)</th>\n",
       "      <th>Validation MAPE (%)</th>\n",
       "      <th>Train MSE</th>\n",
       "      <th>Validation MSE</th>\n",
       "    </tr>\n",
       "  </thead>\n",
       "  <tbody>\n",
       "    <tr>\n",
       "      <th>0</th>\n",
       "      <td>0</td>\n",
       "      <td>LinearRegression()</td>\n",
       "      <td>0.0000</td>\n",
       "      <td>-0.0010</td>\n",
       "      <td>64.2579</td>\n",
       "      <td>63.6712</td>\n",
       "      <td>59.3926</td>\n",
       "      <td>61.6092</td>\n",
       "      <td>5711.4269</td>\n",
       "      <td>5546.6181</td>\n",
       "    </tr>\n",
       "    <tr>\n",
       "      <th>1</th>\n",
       "      <td>1</td>\n",
       "      <td>LinearRegression()</td>\n",
       "      <td>0.3184</td>\n",
       "      <td>0.3142</td>\n",
       "      <td>51.6124</td>\n",
       "      <td>50.9095</td>\n",
       "      <td>46.5930</td>\n",
       "      <td>46.0640</td>\n",
       "      <td>3892.8471</td>\n",
       "      <td>3800.0001</td>\n",
       "    </tr>\n",
       "    <tr>\n",
       "      <th>2</th>\n",
       "      <td>2</td>\n",
       "      <td>LinearRegression()</td>\n",
       "      <td>0.3202</td>\n",
       "      <td>0.3085</td>\n",
       "      <td>51.5397</td>\n",
       "      <td>51.1375</td>\n",
       "      <td>46.4831</td>\n",
       "      <td>46.2325</td>\n",
       "      <td>3882.7868</td>\n",
       "      <td>3831.6408</td>\n",
       "    </tr>\n",
       "    <tr>\n",
       "      <th>3</th>\n",
       "      <td>3</td>\n",
       "      <td>LinearRegression()</td>\n",
       "      <td>0.3202</td>\n",
       "      <td>0.3085</td>\n",
       "      <td>51.5383</td>\n",
       "      <td>51.1359</td>\n",
       "      <td>46.4811</td>\n",
       "      <td>46.2307</td>\n",
       "      <td>3882.7861</td>\n",
       "      <td>3831.5234</td>\n",
       "    </tr>\n",
       "    <tr>\n",
       "      <th>4</th>\n",
       "      <td>4</td>\n",
       "      <td>LinearRegression()</td>\n",
       "      <td>0.3240</td>\n",
       "      <td>0.3158</td>\n",
       "      <td>51.3373</td>\n",
       "      <td>51.0663</td>\n",
       "      <td>46.2265</td>\n",
       "      <td>45.9662</td>\n",
       "      <td>3861.0631</td>\n",
       "      <td>3791.2080</td>\n",
       "    </tr>\n",
       "    <tr>\n",
       "      <th>5</th>\n",
       "      <td>5</td>\n",
       "      <td>LinearRegression()</td>\n",
       "      <td>0.3240</td>\n",
       "      <td>0.3154</td>\n",
       "      <td>51.3333</td>\n",
       "      <td>51.0696</td>\n",
       "      <td>46.2283</td>\n",
       "      <td>45.9652</td>\n",
       "      <td>3860.8126</td>\n",
       "      <td>3793.6390</td>\n",
       "    </tr>\n",
       "  </tbody>\n",
       "</table>\n",
       "</div>"
      ],
      "text/plain": [
       "   Degree               Model  Train R-squared  Validation R-squared  \\\n",
       "0       0  LinearRegression()           0.0000               -0.0010   \n",
       "1       1  LinearRegression()           0.3184                0.3142   \n",
       "2       2  LinearRegression()           0.3202                0.3085   \n",
       "3       3  LinearRegression()           0.3202                0.3085   \n",
       "4       4  LinearRegression()           0.3240                0.3158   \n",
       "5       5  LinearRegression()           0.3240                0.3154   \n",
       "\n",
       "   Train MAE  Validation MAE  Train MAPE (%)  Validation MAPE (%)  Train MSE  \\\n",
       "0    64.2579         63.6712         59.3926              61.6092  5711.4269   \n",
       "1    51.6124         50.9095         46.5930              46.0640  3892.8471   \n",
       "2    51.5397         51.1375         46.4831              46.2325  3882.7868   \n",
       "3    51.5383         51.1359         46.4811              46.2307  3882.7861   \n",
       "4    51.3373         51.0663         46.2265              45.9662  3861.0631   \n",
       "5    51.3333         51.0696         46.2283              45.9652  3860.8126   \n",
       "\n",
       "   Validation MSE  \n",
       "0       5546.6181  \n",
       "1       3800.0001  \n",
       "2       3831.6408  \n",
       "3       3831.5234  \n",
       "4       3791.2080  \n",
       "5       3793.6390  "
      ]
     },
     "execution_count": 17,
     "metadata": {},
     "output_type": "execute_result"
    }
   ],
   "source": [
    "# Data preparation\n",
    "summary = {\n",
    "    'Degree': list(range(6)),\n",
    "    'Model': models,\n",
    "    'Train R-squared': r2_scores_train,\n",
    "    'Validation R-squared': r2_scores_val,\n",
    "    'Train MAE': mae_train,\n",
    "    'Validation MAE': mae_val,\n",
    "    'Train MAPE (%)': mape_scores_train,\n",
    "    'Validation MAPE (%)': mape_scores_val,\n",
    "    'Train MSE': mse_train,\n",
    "    'Validation MSE': mse_val,\n",
    "}\n",
    "\n",
    "# Create a DataFrame\n",
    "summary_table = pd.DataFrame(summary)\n",
    "\n",
    "# Display the DataFrame\n",
    "summary_table"
   ]
  },
  {
   "cell_type": "raw",
   "id": "b208b73e-dcd5-4b41-b425-309e9ac20891",
   "metadata": {},
   "source": []
  },
  {
   "cell_type": "markdown",
   "id": "14710c83-730d-47bb-8d49-80ca6190df65",
   "metadata": {},
   "source": [
    "#### Finding the best model"
   ]
  },
  {
   "cell_type": "markdown",
   "id": "5ba36a31-987e-4757-af92-d526551fd7c0",
   "metadata": {},
   "source": [
    "> In this step, for simplicity, we will be considering a model that had best Validation Mean Absolute Percentage Error thereby, giving us best relative accuracy. In real world however, a combination of all 3 performance parameters [r2_score, mse, mape] si considered."
   ]
  },
  {
   "cell_type": "code",
   "execution_count": 18,
   "id": "f58f7300-d6a5-4fc3-a430-3fb6dda36c92",
   "metadata": {},
   "outputs": [
    {
     "data": {
      "text/plain": [
       "(LinearRegression(), 5, PolynomialFeatures(degree=5))"
      ]
     },
     "execution_count": 18,
     "metadata": {},
     "output_type": "execute_result"
    }
   ],
   "source": [
    "best_model_details = summary_table[summary_table['Validation MAPE (%)'] == summary_table['Validation MAPE (%)'].min()]\n",
    "best_model = best_model_details['Model'].values[0]\n",
    "best_degree = best_model_details['Degree'].values[0]\n",
    "\n",
    "poly = PolynomialFeatures(degree=best_degree)\n",
    "\n",
    "best_model, best_degree, poly"
   ]
  },
  {
   "cell_type": "raw",
   "id": "4e428fe1-e2f6-4475-b000-3c674dd3b9ff",
   "metadata": {},
   "source": []
  },
  {
   "cell_type": "raw",
   "id": "07f9c821-581d-44d9-8ab5-2bb697f140de",
   "metadata": {},
   "source": []
  },
  {
   "cell_type": "markdown",
   "id": "a75dd106-0b7b-47ba-b04e-5841ca3714f8",
   "metadata": {},
   "source": [
    "#### Calculating performance on test dataset and plotting the graph"
   ]
  },
  {
   "cell_type": "code",
   "execution_count": 19,
   "id": "fd74e6ff-1be7-4bc7-adb8-a4d54a705dbc",
   "metadata": {},
   "outputs": [
    {
     "name": "stdout",
     "output_type": "stream",
     "text": [
      "Performance on Test Data:\n",
      "R2 Score: 0.3609337940052998\n",
      "Mean Absolute Error: 51.98803468655369\n",
      "Mean Squared Error: 3934.184730445034\n",
      "Mean Absolute Percentage Error: 48.84296585350349\n"
     ]
    }
   ],
   "source": [
    "X_test_poly = poly.fit_transform(X_test[['bmi']])\n",
    "Y_test_pred = best_model.predict(X_test_poly)\n",
    "\n",
    "r2_test = r2_score(Y_test, Y_test_pred)\n",
    "mse_test = mean_squared_error(Y_test, Y_test_pred)\n",
    "mae_test = mean_absolute_error(Y_test, Y_test_pred)\n",
    "mape_test = np.mean(np.abs((Y_test - Y_test_pred) / Y_test)) * 100\n",
    "\n",
    "print(f\"Performance on Test Data:\\nR2 Score: {r2_test}\\nMean Absolute Error: {mae_test}\\nMean Squared Error: {mse_test}\\nMean Absolute Percentage Error: {mape_test}\")"
   ]
  },
  {
   "cell_type": "code",
   "execution_count": 20,
   "id": "6ca889cf-51f8-4eaa-b971-c2f16b7a9ae1",
   "metadata": {},
   "outputs": [
    {
     "data": {
      "text/plain": [
       "((219,), (219,), (219,))"
      ]
     },
     "execution_count": 20,
     "metadata": {},
     "output_type": "execute_result"
    }
   ],
   "source": [
    "X_test.values.reshape(-1).shape, Y_test.shape, Y_test.shape"
   ]
  },
  {
   "cell_type": "code",
   "execution_count": 21,
   "id": "c4c13c74-b2e8-4a82-ba9c-feb823827500",
   "metadata": {},
   "outputs": [
    {
     "data": {
      "image/png": "[encoded data removed]",
      "text/plain": [
       "<Figure size 640x480 with 1 Axes>"
      ]
     },
     "metadata": {},
     "output_type": "display_data"
    }
   ],
   "source": [
    "bmi_v_diabities_risk = pd.DataFrame({\"BMI\": X_test.values.reshape(-1), \"Actual Diabetes Risk\": Y_test, \"Predicted Diabetes Risk\": Y_test_pred})\n",
    "sns.scatterplot(x='BMI', y='Actual Diabetes Risk', data=bmi_v_diabities_risk, label='Actual Data')\n",
    "sns.lineplot(x='BMI', y='Predicted Diabetes Risk', data=bmi_v_diabities_risk, color='red', label='Predicted Line')\n",
    "\n",
    "plt.xlabel('BMI Test')\n",
    "plt.ylabel('Diabetes Risk')\n",
    "plt.title('BMI vs Diabetes Risk for Testing Data Points')\n",
    "\n",
    "plt.legend()\n",
    "plt.show()"
   ]
  },
  {
   "cell_type": "raw",
   "id": "d0a8e142-99e9-4f70-a090-f2088ac5b563",
   "metadata": {},
   "source": []
  },
  {
   "cell_type": "markdown",
   "id": "ab5a5b03-5181-4cdb-be95-4231a468f200",
   "metadata": {},
   "source": [
    "#### Calculating performance on test dataset and plotting the graphd\r\n"
   ]
  },
  {
   "cell_type": "code",
   "execution_count": 22,
   "id": "00bc40e6-7d65-4691-a7cb-ef6c955d917e",
   "metadata": {},
   "outputs": [
    {
     "name": "stdout",
     "output_type": "stream",
     "text": [
      "Performance on Train Data:\n",
      "R2 Score: 0.32401959921658907\n",
      "Mean Absolute Error: 51.33325835963353\n",
      "Mean Squared Error: 3860.8126456380096\n",
      "Mean Absolute Percentage Error: 46.22828638393631\n"
     ]
    }
   ],
   "source": [
    "X_train_poly = poly.fit_transform(X_train[['bmi']])\n",
    "Y_train_pred = best_model.predict(X_train_poly)\n",
    "\n",
    "r2_train = r2_score(Y_train, Y_train_pred)\n",
    "mse_train = mean_squared_error(Y_train, Y_train_pred)\n",
    "mae_train = mean_absolute_error(Y_train, Y_train_pred)\n",
    "mape_train = np.mean(np.abs((Y_train - Y_train_pred) / Y_train)) * 100\n",
    "\n",
    "print(f\"Performance on Train Data:\\nR2 Score: {r2_train}\\nMean Absolute Error: {mae_train}\\nMean Squared Error: {mse_train}\\nMean Absolute Percentage Error: {mape_train}\")"
   ]
  },
  {
   "cell_type": "code",
   "execution_count": 23,
   "id": "d1f8d723-d760-473a-95c2-83037dcddd62",
   "metadata": {},
   "outputs": [
    {
     "data": {
      "text/plain": [
       "((307,), (307,), (307,))"
      ]
     },
     "execution_count": 23,
     "metadata": {},
     "output_type": "execute_result"
    }
   ],
   "source": [
    "X_train.values.reshape(-1).shape, Y_train.shape, Y_train_pred.shape"
   ]
  },
  {
   "cell_type": "code",
   "execution_count": 24,
   "id": "c2d68ed5-7dbc-4b91-a58a-361724573146",
   "metadata": {},
   "outputs": [
    {
     "data": {
      "image/png": "[encoded data removed]",
      "text/plain": [
       "<Figure size 640x480 with 1 Axes>"
      ]
     },
     "metadata": {},
     "output_type": "display_data"
    }
   ],
   "source": [
    "bmi_v_diabities_risk = pd.DataFrame({\"BMI\": X_train.values.reshape(-1), \"Actual Diabetes Risk\": Y_train, \"Predicted Diabetes Risk\": Y_train_pred})\n",
    "sns.scatterplot(x='BMI', y='Actual Diabetes Risk', data=bmi_v_diabities_risk, label='Actual Data')\n",
    "sns.lineplot(x='BMI', y='Predicted Diabetes Risk', data=bmi_v_diabities_risk, color='red', label='Predicted Line')\n",
    "\n",
    "plt.xlabel('BMI Train')\n",
    "plt.ylabel('Diabetes Risk')\n",
    "plt.title('BMI vs Diabetes Risk for Training Data Points')\n",
    "\n",
    "plt.legend()\n",
    "plt.show()"
   ]
  },
  {
   "cell_type": "raw",
   "id": "e2bbb3ce-d0ad-4baf-bea9-9ff5d6659255",
   "metadata": {},
   "source": []
  },
  {
   "cell_type": "raw",
   "id": "262297eb-d265-4ee1-9268-f02848988652",
   "metadata": {},
   "source": []
  },
  {
   "cell_type": "code",
   "execution_count": 25,
   "id": "c52a744a-2726-42eb-9823-3d40a3007185",
   "metadata": {},
   "outputs": [
    {
     "name": "stdout",
     "output_type": "stream",
     "text": [
      "Performance on Validation Data:\n",
      "R2 Score: 0.3153844355651596\n",
      "Mean Absolute Error: 51.069605658397336\n",
      "Mean Squared Error: 3793.638995633314\n",
      "Mean Absolute Percentage Error: 45.96516037664835\n"
     ]
    }
   ],
   "source": [
    "X_val_poly = poly.fit_transform(X_val[['bmi']])\n",
    "Y_val_pred = best_model.predict(X_val_poly)\n",
    "\n",
    "r2_val = r2_score(Y_val, Y_val_pred)\n",
    "mse_val = mean_squared_error(Y_val, Y_val_pred)\n",
    "mae_val = mean_absolute_error(Y_val, Y_val_pred)\n",
    "mape_val = np.mean(np.abs((Y_val - Y_val_pred) / Y_val)) * 100\n",
    "\n",
    "print(f\"Performance on Validation Data:\\nR2 Score: {r2_val}\\nMean Absolute Error: {mae_val}\\nMean Squared Error: {mse_val}\\nMean Absolute Percentage Error: {mape_val}\")"
   ]
  },
  {
   "cell_type": "code",
   "execution_count": 26,
   "id": "4f280599-4803-4238-8190-ac9eba8dcdbb",
   "metadata": {},
   "outputs": [
    {
     "data": {
      "text/plain": [
       "((220,), (220,), (220,))"
      ]
     },
     "execution_count": 26,
     "metadata": {},
     "output_type": "execute_result"
    }
   ],
   "source": [
    "X_val.values.reshape(-1).shape, Y_val.shape, Y_val_pred.shape"
   ]
  },
  {
   "cell_type": "code",
   "execution_count": 27,
   "id": "4a37977e-8e75-4424-a461-bfe58db467b3",
   "metadata": {},
   "outputs": [
    {
     "data": {
      "image/png": "[encoded data removed]",
      "text/plain": [
       "<Figure size 640x480 with 1 Axes>"
      ]
     },
     "metadata": {},
     "output_type": "display_data"
    }
   ],
   "source": [
    "bmi_v_diabities_risk = pd.DataFrame({\"BMI\": X_val.values.reshape(-1), \"Actual Diabetes Risk\": Y_val, \"Predicted Diabetes Risk\": Y_val_pred})\n",
    "sns.scatterplot(x='BMI', y='Actual Diabetes Risk', data=bmi_v_diabities_risk, label='Actual Data')\n",
    "sns.lineplot(x='BMI', y='Predicted Diabetes Risk', data=bmi_v_diabities_risk, color='red', label='Predicted Line')\n",
    "\n",
    "plt.xlabel('BMI Validation')\n",
    "plt.ylabel('Diabetes Risk')\n",
    "plt.title('BMI vs Diabetes Risk for Validation Data Points')\n",
    "\n",
    "plt.legend()\n",
    "plt.show()"
   ]
  },
  {
   "cell_type": "raw",
   "id": "cf593ed9-15fe-4267-a9c8-5b90b85f2149",
   "metadata": {},
   "source": []
  },
  {
   "cell_type": "raw",
   "id": "4ee79ba3-8e3c-48d4-a4bb-4f4c3247c8d7",
   "metadata": {},
   "source": []
  },
  {
   "cell_type": "markdown",
   "id": "fa6e506b-2b6a-426c-8c60-e8e01a190cf0",
   "metadata": {},
   "source": [
    "#### Manually calcualting predicted value for a random bmi value and comparing with the one predicted by our best model and actual value"
   ]
  },
  {
   "cell_type": "code",
   "execution_count": 28,
   "id": "b4290c27-7ef9-436e-8a5f-d1816660eb7b",
   "metadata": {},
   "outputs": [
    {
     "data": {
      "text/plain": [
       "(array([       0.    ,     1033.4853,    -3076.8904,   -31616.1136,\n",
       "          649257.9716, -1032549.1663]),\n",
       " 152.6172,\n",
       " array([[1.e+00, 1.e-02, 1.e-04, 0.e+00, 0.e+00, 0.e+00]]))"
      ]
     },
     "execution_count": 28,
     "metadata": {},
     "output_type": "execute_result"
    }
   ],
   "source": [
    "coef = np.round(np.array(best_model.coef_), 4)\n",
    "intercept = np.round(best_model.intercept_, 4)\n",
    "\n",
    "sample = df.sample()\n",
    "bmi = poly.fit_transform(sample[['bmi']])\n",
    "bmi = np.round(np.array(bmi), 4)\n",
    "\n",
    "coef, intercept, bmi"
   ]
  },
  {
   "cell_type": "code",
   "execution_count": 29,
   "id": "2c2ed86c-ccf2-4193-86bd-0f2060879372",
   "metadata": {},
   "outputs": [
    {
     "data": {
      "text/plain": [
       "162.6444"
      ]
     },
     "execution_count": 29,
     "metadata": {},
     "output_type": "execute_result"
    }
   ],
   "source": [
    "np.round(np.dot(coef, bmi.T) + intercept, 4)[0]"
   ]
  },
  {
   "cell_type": "code",
   "execution_count": 30,
   "id": "4ddb873e-1c7b-41d1-89f5-f67e66a70380",
   "metadata": {},
   "outputs": [
    {
     "data": {
      "text/plain": [
       "162.6444"
      ]
     },
     "execution_count": 30,
     "metadata": {},
     "output_type": "execute_result"
    }
   ],
   "source": [
    "np.round(best_model.predict(bmi), 4)[0]"
   ]
  },
  {
   "cell_type": "code",
   "execution_count": 31,
   "id": "bdc7dff9-6feb-4760-96b2-4771a150f8bd",
   "metadata": {},
   "outputs": [
    {
     "data": {
      "text/plain": [
       "210.0"
      ]
     },
     "execution_count": 31,
     "metadata": {},
     "output_type": "execute_result"
    }
   ],
   "source": [
    "sample['target'].values[0]"
   ]
  },
  {
   "cell_type": "markdown",
   "id": "8345104b-26b1-402c-b0fc-dcd9792534d5",
   "metadata": {},
   "source": [
    "In above methods it can be seen that the model and our manual calculations presents same value or too close to be considered within margin of error. But when comared with actual value we can see there is still a lot of improvements that can be done to our model."
   ]
  },
  {
   "cell_type": "raw",
   "id": "803783e3-0f11-4fbc-8a40-2c44110cd35a",
   "metadata": {},
   "source": []
  },
  {
   "cell_type": "markdown",
   "id": "7e96e784-904b-4b59-b7de-1f45e38e33b5",
   "metadata": {},
   "source": [
    "#### Finding numenbr of trainable parameters for each degree."
   ]
  },
  {
   "cell_type": "code",
   "execution_count": 32,
   "id": "44ad7e0b-a3a3-4247-b50f-63cffc703e9e",
   "metadata": {},
   "outputs": [
    {
     "name": "stdout",
     "output_type": "stream",
     "text": [
      "Number of Trainable parameters for a polynomial with degree 0 is: 1 i.e. ['1']\n",
      "Number of Trainable parameters for a polynomial with degree 1 is: 2 i.e. ['1' 'bmi']\n",
      "Number of Trainable parameters for a polynomial with degree 2 is: 3 i.e. ['1' 'bmi' 'bmi^2']\n",
      "Number of Trainable parameters for a polynomial with degree 3 is: 4 i.e. ['1' 'bmi' 'bmi^2' 'bmi^3']\n",
      "Number of Trainable parameters for a polynomial with degree 4 is: 5 i.e. ['1' 'bmi' 'bmi^2' 'bmi^3' 'bmi^4']\n",
      "Number of Trainable parameters for a polynomial with degree 5 is: 6 i.e. ['1' 'bmi' 'bmi^2' 'bmi^3' 'bmi^4' 'bmi^5']\n"
     ]
    }
   ],
   "source": [
    "for i in range(0, 6):\n",
    "    poly = PolynomialFeatures(degree = i).fit(X)\n",
    "    print(f\"Number of Trainable parameters for a polynomial with degree {i} is: {len(poly.get_feature_names_out())} i.e. {poly.get_feature_names_out()}\")"
   ]
  },
  {
   "cell_type": "raw",
   "id": "5bc4c4b4-7364-4479-82c2-3c4d84f6c447",
   "metadata": {},
   "source": []
  },
  {
   "cell_type": "raw",
   "id": "59a04d30-ac0a-42a1-8d9f-bd9aaf598b7f",
   "metadata": {},
   "source": []
  }
 ],
 "metadata": {
  "kernelspec": {
   "display_name": "Python 3 (ipykernel)",
   "language": "python",
   "name": "python3"
  },
  "language_info": {
   "codemirror_mode": {
    "name": "ipython",
    "version": 3
   },
   "file_extension": ".py",
   "mimetype": "text/x-python",
   "name": "python",
   "nbconvert_exporter": "python",
   "pygments_lexer": "ipython3",
   "version": "3.10.11"
  }
 },
 "nbformat": 4,
 "nbformat_minor": 5
}
